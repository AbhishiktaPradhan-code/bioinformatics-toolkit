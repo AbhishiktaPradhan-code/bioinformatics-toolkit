{
 "cells": [
  {
   "cell_type": "code",
   "execution_count": null,
   "id": "1cb9f46c",
   "metadata": {},
   "outputs": [],
   "source": [
    "from Bio import SeqIO\n",
    "# Load the GenBank file\n",
    "record = SeqIO.read(\"sequence.gb\", \"genbank\")"
   ]
  },
  {
   "cell_type": "code",
   "execution_count": 3,
   "id": "f81716de",
   "metadata": {},
   "outputs": [
    {
     "name": "stdout",
     "output_type": "stream",
     "text": [
      "Organism: Pseudoterranova decipiens\n",
      "Sequence (first 100 bases): GGAACCATTATGCACTCTTCAATAGTTTTGGCCACCGTGCTCTTTGTAGCGATTGCTTCAGCATCAAAAAGTAAGTTTCACCTCCCTCCCCCCCCCCTTT\n",
      "Sequence Length: 2765\n"
     ]
    }
   ],
   "source": [
    "# Organism Name\n",
    "organism = record.annotations[\"organism\"]\n",
    "print(\"Organism:\", organism)\n",
    "\n",
    "# Sequence\n",
    "sequence = record.seq\n",
    "print(\"Sequence (first 100 bases):\", sequence[:100])\n",
    "\n",
    "# Sequence Length\n",
    "print(\"Sequence Length:\", len(sequence))"
   ]
  },
  {
   "cell_type": "code",
   "execution_count": 4,
   "id": "e8dcd5bf",
   "metadata": {},
   "outputs": [
    {
     "name": "stdout",
     "output_type": "stream",
     "text": [
      "Gene: -\n",
      "  Product: hemoglobin\n",
      "  Location: join{[9:70](+), [255:343](+), [508:606](+), [803:937](+), [1192:1319](+), [1593:1681](+), [2017:2423](+)}\n",
      "\n"
     ]
    }
   ],
   "source": [
    "# Loop through all annotated features in the sequence\n",
    "# We're interested in CDS (coding sequence) features\n",
    "for feature in record.features:\n",
    "    if feature.type == \"CDS\":\n",
    "        # Extract gene name from the qualifiers dictionary\n",
    "        # If \"gene\" is not present, use \"-\" as default\n",
    "        gene = feature.qualifiers.get(\"gene\", [\"-\"])[0]\n",
    "\n",
    "        # Extract product (protein name) from qualifiers\n",
    "        product = feature.qualifiers.get(\"product\", [\"-\"])[0]\n",
    "\n",
    "        # Extract location of the gene (start-end coordinates)\n",
    "        location = feature.location\n",
    "\n",
    "        # Print the gene information\n",
    "        print(f\"Gene: {gene}\\n  Product: {product}\\n  Location: {location}\\n\")"
   ]
  },
  {
   "cell_type": "code",
   "execution_count": 6,
   "id": "8654e2ab",
   "metadata": {},
   "outputs": [],
   "source": [
    "import csv\n",
    "\n",
    "with open(\"cds_features.csv\", \"w\", newline=\"\") as f:\n",
    "    writer = csv.writer(f)\n",
    "    writer.writerow([\"Gene\", \"Product\", \"Start\", \"End\"])\n",
    "    \n",
    "    for feature in record.features:\n",
    "        if feature.type == \"CDS\":\n",
    "            gene = feature.qualifiers.get(\"gene\", [\"-\"])[0]\n",
    "            product = feature.qualifiers.get(\"product\", [\"-\"])[0]\n",
    "            start = int(feature.location.start)\n",
    "            end = int(feature.location.end)\n",
    "            writer.writerow([gene, product, start, end])"
   ]
  }
 ],
 "metadata": {
  "kernelspec": {
   "display_name": "Python 3",
   "language": "python",
   "name": "python3"
  },
  "language_info": {
   "codemirror_mode": {
    "name": "ipython",
    "version": 3
   },
   "file_extension": ".py",
   "mimetype": "text/x-python",
   "name": "python",
   "nbconvert_exporter": "python",
   "pygments_lexer": "ipython3",
   "version": "3.12.4"
  }
 },
 "nbformat": 4,
 "nbformat_minor": 5
}
