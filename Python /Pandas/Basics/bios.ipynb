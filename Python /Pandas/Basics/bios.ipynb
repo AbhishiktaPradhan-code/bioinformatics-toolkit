{
 "cells": [
  {
   "cell_type": "code",
   "execution_count": null,
   "id": "9420bc06",
   "metadata": {},
   "outputs": [
    {
     "name": "stdout",
     "output_type": "stream",
     "text": [
      "        athlete_id                name   born_date         born_city  \\\n",
      "5681          5704        Walt Bellamy  1937-07-24          New Bern   \n",
      "5781          5804      Tommy Burleson  1952-02-24         Crossnore   \n",
      "5894          5919          Mel Counts  1941-10-16          Coos Bay   \n",
      "6106          6133     Marc Freiberger  1928-11-27          Amarillo   \n",
      "6281          6309      Darrall Imhoff  1938-10-11       San Gabriel   \n",
      "6379          6410          Joe Kleine  1962-01-04  Colorado Springs   \n",
      "6393          6424          Jon Koncak  1963-05-17      Cedar Rapids   \n",
      "6442          6473  Christian Laettner  1969-08-17            Angola   \n",
      "6615          6648        Tom McMillen  1952-05-26         Mansfield   \n",
      "6722          6755    Shaquille O'Neal  1972-03-06            Newark   \n",
      "6937          6972      David Robinson  1965-08-06          Key West   \n",
      "7012          7048     Daniel Santiago  1976-06-24    Tarpon Springs   \n",
      "112319      113575         Chris Kaman  1982-04-28           Wyoming   \n",
      "112366      113622       Dwight Howard  1985-12-08           Atlanta   \n",
      "118573      120309     Al-Farouq Aminu  1990-09-21           Atlanta   \n",
      "123850      126093      Tyson Chandler  1982-10-02           Hanford   \n",
      "132188      135037    Domantas Sabonis  1996-05-03          Portland   \n",
      "133332      136271      DeAndre Jordan  1988-07-21           Houston   \n",
      "142044      145640       Jahlil Okafor  1995-12-15        Fort Smith   \n",
      "142930      146560          Mike Tobey  1994-10-10            Monroe   \n",
      "143712      147367        JaVale McGee  1988-01-19             Flint   \n",
      "\n",
      "           born_region born_country            NOC  height_cm  weight_kg  \\\n",
      "5681    North Carolina          USA  United States      211.0       98.0   \n",
      "5781    North Carolina          USA  United States      223.0      102.0   \n",
      "5894            Oregon          USA  United States      213.0      102.0   \n",
      "6106             Texas          USA  United States      211.0       98.0   \n",
      "6281        California          USA  United States      211.0       98.0   \n",
      "6379          Colorado          USA  United States      211.0      122.0   \n",
      "6393              Iowa          USA  United States      213.0      113.0   \n",
      "6442          New York          USA  United States      211.0      107.0   \n",
      "6615      Pennsylvania          USA  United States      212.0       95.0   \n",
      "6722        New Jersey          USA  United States      216.0      137.0   \n",
      "6937           Florida          USA  United States      216.0      107.0   \n",
      "7012           Florida          USA    Puerto Rico      213.0      111.0   \n",
      "112319        Michigan          USA        Germany      213.0      122.0   \n",
      "112366         Georgia          USA  United States      211.0      120.0   \n",
      "118573         Georgia          USA        Nigeria      211.0       98.0   \n",
      "123850      California          USA  United States      216.0      107.0   \n",
      "132188          Oregon          USA      Lithuania      211.0      109.0   \n",
      "133332           Texas          USA  United States      211.0      120.0   \n",
      "142044        Arkansas          USA        Nigeria      211.0        NaN   \n",
      "142930        New York          USA       Slovenia      213.0        NaN   \n",
      "143712        Michigan          USA  United States      213.0        NaN   \n",
      "\n",
      "         died_date  \n",
      "5681    2013-11-02  \n",
      "5781           NaN  \n",
      "5894           NaN  \n",
      "6106    2005-06-29  \n",
      "6281    2017-06-30  \n",
      "6379           NaN  \n",
      "6393           NaN  \n",
      "6442           NaN  \n",
      "6615           NaN  \n",
      "6722           NaN  \n",
      "6937           NaN  \n",
      "7012           NaN  \n",
      "112319         NaN  \n",
      "112366         NaN  \n",
      "118573         NaN  \n",
      "123850         NaN  \n",
      "132188         NaN  \n",
      "133332         NaN  \n",
      "142044         NaN  \n",
      "142930         NaN  \n",
      "143712         NaN  \n"
     ]
    }
   ],
   "source": [
    "import pandas as pd\n",
    "\n",
    "bios = pd.read_csv('bios.csv')\n",
    "\n",
    "print(bios.loc[(bios['height_cm'] > 210) & (bios['born_country'] == 'USA')])\n"
   ]
  }
 ],
 "metadata": {
  "kernelspec": {
   "display_name": "Python 3",
   "language": "python",
   "name": "python3"
  },
  "language_info": {
   "codemirror_mode": {
    "name": "ipython",
    "version": 3
   },
   "file_extension": ".py",
   "mimetype": "text/x-python",
   "name": "python",
   "nbconvert_exporter": "python",
   "pygments_lexer": "ipython3",
   "version": "3.12.4"
  }
 },
 "nbformat": 4,
 "nbformat_minor": 5
}
