{
 "cells": [
  {
   "cell_type": "code",
   "execution_count": null,
   "id": "a12592f5",
   "metadata": {},
   "outputs": [],
   "source": [
    "\n",
    "# Another way to do Addition\n",
    "\n",
    "X=int(input(\"what is x?\"))\n",
    "Y=int(input(\"what is y?\"))\n",
    "print(X+Y)\n"
   ]
  },
  {
   "cell_type": "code",
   "execution_count": null,
   "id": "d2894a6b",
   "metadata": {},
   "outputs": [],
   "source": [
    " #Addition\n",
    "X=input(\"what is x?\")\n",
    "Y=input(\"what is y?\")\n",
    "Z= int(X) + int(Y)\n",
    "print(\"The sum of\",X,\"and\",Y,\"is\",Z)\n"
   ]
  },
  {
   "cell_type": "code",
   "execution_count": null,
   "id": "e372e1b8",
   "metadata": {},
   "outputs": [],
   "source": [
    "# To take decimal values\n",
    "X=float(input(\"what is x?: \"))\n",
    "Y=float(input(\"what is y?: \"))\n",
    "\n",
    "# to round off number \n",
    "Z = round(X+Y)\n",
    "\n",
    "# to add commas in the number\n",
    "print(f\"{Z:,}\")"
   ]
  },
  {
   "cell_type": "code",
   "execution_count": null,
   "id": "3e643e75",
   "metadata": {},
   "outputs": [],
   "source": [
    "# to do division\n",
    "X=float(input(\"What is X?\"))\n",
    "Y=float(input(\"What is Y?\"))\n",
    " \n",
    "Z = X/Y\n",
    "print(f\"{Z:.2f}\")"
   ]
  }
 ],
 "metadata": {
  "language_info": {
   "name": "python"
  }
 },
 "nbformat": 4,
 "nbformat_minor": 5
}
